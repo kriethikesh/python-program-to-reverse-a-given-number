{
  "nbformat": 4,
  "nbformat_minor": 0,
  "metadata": {
    "colab": {
      "provenance": []
    },
    "kernelspec": {
      "name": "python3",
      "display_name": "Python 3"
    },
    "language_info": {
      "name": "python"
    }
  },
  "cells": [
    {
      "cell_type": "code",
      "source": [
        "#python program to reverse a given number"
      ],
      "metadata": {
        "id": "WWZCmTIxUKbX"
      },
      "execution_count": 37,
      "outputs": []
    },
    {
      "cell_type": "code",
      "source": [
        "x=int(input(\"enter a number\"))\n",
        "y=x\n",
        "sum=0\n",
        "while x>0:\n",
        "  digit=x%10\n",
        "  sum=sum*10+digit\n",
        "  x=x//10\n",
        "print(sum)"
      ],
      "metadata": {
        "id": "Y8BZk8xjUTuO"
      },
      "execution_count": null,
      "outputs": []
    },
    {
      "cell_type": "code",
      "source": [],
      "metadata": {
        "id": "bCs6SIkRVDHl"
      },
      "execution_count": null,
      "outputs": []
    }
  ]
}